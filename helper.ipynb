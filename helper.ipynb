{
 "cells": [
  {
   "cell_type": "code",
   "execution_count": 3,
   "metadata": {},
   "outputs": [],
   "source": [
    "import math\n",
    "import numpy as np\n",
    "\n",
    "def track_bound_crossprod(waypoint,c_one,c_two):\n",
    "    ac=waypoint-c_one\n",
    "    ab=c_two-c_one\n",
    "    cross_product = np.cross(ab,ac)\n",
    "    norm_ab = np.linalg.norm(ab)\n",
    "    norm_cross = np.linalg.norm(cross_product)\n",
    "    distance = norm_cross / norm_ab\n",
    "    return distance\n",
    "    \n"
   ]
  },
  {
   "cell_type": "code",
   "execution_count": 4,
   "metadata": {},
   "outputs": [],
   "source": [
    "import json\n",
    "\n",
    "points = json.load(open('bag_points.json'))\n",
    "\n",
    "center_line = np.array(points[\"TRACK\"])\n",
    "left_boundary = np.array(points[\"BLUE\"])\n",
    "right_boundary = np.array(points[\"YELLOW\"])"
   ]
  },
  {
   "cell_type": "code",
   "execution_count": 5,
   "metadata": {},
   "outputs": [
    {
     "name": "stdout",
     "output_type": "stream",
     "text": [
      "2.146228215569754\n",
      "2.14630256987643\n",
      "1.96100054707721\n",
      "1.782657768995878\n",
      "1.3080174743476014\n",
      "0.672605895833775\n",
      "0.9138936603617673\n",
      "0.07098253258228972\n",
      "7.820557012799458\n",
      "12.25402567297233\n",
      "11.193013708976226\n",
      "12.6769247943967\n",
      "14.2853574146876\n",
      "13.800082812320762\n",
      "13.757980679752572\n",
      "12.72800860829555\n",
      "4.425635892322437\n",
      "0.9412539521617524\n",
      "4.103237770799423\n",
      "0.811428585812817\n",
      "12.87939733665808\n",
      "21.11301985315482\n",
      "22.974208722514224\n",
      "27.94051441790469\n",
      "34.7483149073002\n",
      "35.71691359636281\n",
      "23.48226120916383\n"
     ]
    },
    {
     "ename": "IndexError",
     "evalue": "index 28 is out of bounds for axis 0 with size 28",
     "output_type": "error",
     "traceback": [
      "\u001b[0;31m---------------------------------------------------------------------------\u001b[0m",
      "\u001b[0;31mIndexError\u001b[0m                                Traceback (most recent call last)",
      "Cell \u001b[0;32mIn[5], line 2\u001b[0m\n\u001b[1;32m      1\u001b[0m \u001b[38;5;28;01mfor\u001b[39;00m i \u001b[38;5;129;01min\u001b[39;00m \u001b[38;5;28mrange\u001b[39m(\u001b[38;5;28mlen\u001b[39m(center_line)\u001b[38;5;241m-\u001b[39m\u001b[38;5;241m1\u001b[39m):\n\u001b[0;32m----> 2\u001b[0m     \u001b[38;5;28mprint\u001b[39m(track_bound_crossprod(center_line[i],left_boundary[i],\u001b[43mleft_boundary\u001b[49m\u001b[43m[\u001b[49m\u001b[43mi\u001b[49m\u001b[38;5;241;43m+\u001b[39;49m\u001b[38;5;241;43m1\u001b[39;49m\u001b[43m]\u001b[49m))\n",
      "\u001b[0;31mIndexError\u001b[0m: index 28 is out of bounds for axis 0 with size 28"
     ]
    }
   ],
   "source": [
    "\n",
    "\n",
    "for point in center_line:\n",
    "    distance = np.min([track_bound_crossprod(point, left_boundary[i],left_boundary[i+1]) for i in range(left_boundary.shape[0]-1)])\n",
    "    \n",
    "    print(distance)"
   ]
  },
  {
   "cell_type": "code",
   "execution_count": 3,
   "metadata": {},
   "outputs": [
    {
     "data": {
      "text/plain": [
       "array([[ 0.2, -0.5],\n",
       "       [ 1.2,  0.5],\n",
       "       [ 2.2,  1.5],\n",
       "       [ 3.2,  0.5],\n",
       "       [ 3.2, -0.5],\n",
       "       [ 2.2, -1.5],\n",
       "       [-0.8, -1.5],\n",
       "       [ 0.2, -0.5]])"
      ]
     },
     "execution_count": 3,
     "metadata": {},
     "output_type": "execute_result"
    }
   ],
   "source": [
    "left_boundary"
   ]
  },
  {
   "cell_type": "code",
   "execution_count": 4,
   "metadata": {},
   "outputs": [
    {
     "data": {
      "text/plain": [
       "0"
      ]
     },
     "execution_count": 4,
     "metadata": {},
     "output_type": "execute_result"
    }
   ],
   "source": [
    "10%10"
   ]
  }
 ],
 "metadata": {
  "kernelspec": {
   "display_name": "Python 3",
   "language": "python",
   "name": "python3"
  },
  "language_info": {
   "codemirror_mode": {
    "name": "ipython",
    "version": 3
   },
   "file_extension": ".py",
   "mimetype": "text/x-python",
   "name": "python",
   "nbconvert_exporter": "python",
   "pygments_lexer": "ipython3",
   "version": "3.8.10"
  }
 },
 "nbformat": 4,
 "nbformat_minor": 2
}
